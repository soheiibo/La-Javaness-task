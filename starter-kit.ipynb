{
 "cells": [
  {
   "cell_type": "code",
   "execution_count": null,
   "metadata": {},
   "outputs": [],
   "source": [
    "import pandas as pd\n",
    "from urllib.request import urlopen  \n",
    "import os.path as osp\n",
    "import os\n",
    "import logging\n",
    "import zipfile\n",
    "from glob import glob\n",
    "logging.getLogger().setLevel('INFO')"
   ]
  },
  {
   "cell_type": "markdown",
   "metadata": {},
   "source": [
    "## Helpers"
   ]
  },
  {
   "cell_type": "code",
   "execution_count": null,
   "metadata": {},
   "outputs": [],
   "source": [
    "def download_file(url_str, path):\n",
    "    url = urlopen(url_str)\n",
    "    output = open(path, 'wb')       \n",
    "    output.write(url.read())\n",
    "    output.close()  \n",
    "    \n",
    "def extract_file(archive_path, target_dir):\n",
    "    zip_file = zipfile.ZipFile(archive_path, 'r')\n",
    "    zip_file.extractall(target_dir)\n",
    "    zip_file.close()"
   ]
  },
  {
   "cell_type": "markdown",
   "metadata": {},
   "source": [
    "## Download the dataset"
   ]
  },
  {
   "cell_type": "code",
   "execution_count": null,
   "metadata": {},
   "outputs": [],
   "source": [
    "BASE_URL = 'http://tennis-data.co.uk'\n",
    "DATA_DIR = \"tennis_data\"\n",
    "ATP_DIR = './{}/ATP'.format(DATA_DIR)\n",
    "WTA_DIR = './{}/WTA'.format(DATA_DIR)\n",
    "\n",
    "ATP_URLS = [BASE_URL + \"/%i/%i.zip\" % (i,i) for i in range(2000,2019)]\n",
    "WTA_URLS = [BASE_URL + \"/%iw/%i.zip\" % (i,i) for i in range(2007,2019)]\n",
    "\n",
    "os.makedirs(osp.join(ATP_DIR, 'archives'), exist_ok=True)\n",
    "os.makedirs(osp.join(WTA_DIR, 'archives'), exist_ok=True)\n",
    "\n",
    "for files, directory in ((ATP_URLS, ATP_DIR), (WTA_URLS, WTA_DIR)):\n",
    "    for dl_path in files:\n",
    "        logging.info(\"downloading & extracting file %s\", dl_path)\n",
    "        archive_path = osp.join(directory, 'archives', osp.basename(dl_path))\n",
    "        download_file(dl_path, archive_path)\n",
    "        extract_file(archive_path, directory)\n",
    "    \n",
    "ATP_FILES = sorted(glob(\"%s/*.xls*\" % ATP_DIR))\n",
    "WTA_FILES = sorted(glob(\"%s/*.xls*\" % WTA_DIR))\n",
    "\n",
    "df_atp = pd.concat([pd.read_excel(f) for f in ATP_FILES], ignore_index=True)\n",
    "df_wta = pd.concat([pd.read_excel(f) for f in WTA_FILES], ignore_index=True)\n",
    "\n",
    "logging.info(\"%i matches ATP in df_atp\", df_atp.shape[0])\n",
    "logging.info(\"%i matches WTA in df_wta\", df_wta.shape[0])"
   ]
  },
  {
   "cell_type": "markdown",
   "metadata": {},
   "source": [
    "## Your work"
   ]
  },
  {
   "cell_type": "code",
   "execution_count": null,
   "metadata": {},
   "outputs": [],
   "source": []
  }
 ],
 "metadata": {
  "kernelspec": {
   "display_name": "Python 3",
   "language": "python",
   "name": "python3"
  },
  "language_info": {
   "codemirror_mode": {
    "name": "ipython",
    "version": 3
   },
   "file_extension": ".py",
   "mimetype": "text/x-python",
   "name": "python",
   "nbconvert_exporter": "python",
   "pygments_lexer": "ipython3",
   "version": "3.6.5"
  }
 },
 "nbformat": 4,
 "nbformat_minor": 2
}
